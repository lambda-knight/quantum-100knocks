{
 "cells": [
  {
   "cell_type": "code",
   "execution_count": 2,
   "metadata": {},
   "outputs": [
    {
     "name": "stderr",
     "output_type": "stream",
     "text": [
      "/Users/makoto/opt/anaconda3/lib/python3.9/site-packages/scipy/__init__.py:146: UserWarning: A NumPy version >=1.16.5 and <1.23.0 is required for this version of SciPy (detected version 1.23.0\n",
      "  warnings.warn(f\"A NumPy version >={np_minversion} and <{np_maxversion}\"\n"
     ]
    }
   ],
   "source": [
    "import numpy as np\n",
    "from qiskit import QuantumCircuit, Aer, transpile\n",
    "from qiskit.visualization import plot_bloch_multivector\n",
    "from qiskit.quantum_info import Statevector\n",
    "from IPython.display import display\n",
    "from qiskit.tools.visualization import plot_histogram\n",
    "\n",
    "sim = Aer.get_backend(\"aer_simulator\")"
   ]
  },
  {
   "cell_type": "markdown",
   "metadata": {},
   "source": [
    "# Q6  $|0\\rangle$をベクトル表現せよ。同様に、$|1\\rangle$、$|+\\rangle$、$|-\\rangle$、$|i\\rangle$、$|i-\\rangle$ をベクトル表現せよ。\n",
    "\n",
    "\n"
   ]
  },
  {
   "cell_type": "markdown",
   "metadata": {},
   "source": [
    "# 解答"
   ]
  },
  {
   "cell_type": "code",
   "execution_count": 3,
   "metadata": {},
   "outputs": [
    {
     "name": "stdout",
     "output_type": "stream",
     "text": [
      "0> :  state= [1.+0.j 0.+0.j] counts= {'0': 1024}\n",
      "1> :  state= [0.+0.j 1.+0.j] counts= {'1': 1024}\n",
      "+> :  state= [0.707+0.j 0.707+0.j] counts= {'1': 489, '0': 535}\n",
      "-> :  state= [ 0.707+0.j -0.707+0.j] counts= {'1': 498, '0': 526}\n",
      "i> :  state= [0.707-0.j    0.   +0.707j] counts= {'0': 526, '1': 498}\n",
      "-i> :  state= [ 0.707-0.j    -0.   -0.707j] counts= {'0': 499, '1': 525}\n"
     ]
    }
   ],
   "source": [
    "for state_label in [\"0\", \"1\", \"+\", \"-\", \"i\", \"-i\"]:\n",
    "    qc = QuantumCircuit(1, 1)\n",
    "\n",
    "    # 初期状態の設定\n",
    "    if state_label == \"1\":\n",
    "        qc.initialize([0, 1], 0)\n",
    "    elif state_label == \"+\":\n",
    "        qc.initialize([1 / np.sqrt(2), 1 / np.sqrt(2)], 0)\n",
    "    elif state_label == \"-\":\n",
    "        qc.initialize([1 / np.sqrt(2), -1 / np.sqrt(2)], 0)\n",
    "    elif state_label == \"i\":\n",
    "        qc.initialize([1 / np.sqrt(2), 1j / np.sqrt(2)], 0)\n",
    "    elif state_label == \"-i\":\n",
    "        qc.initialize([1 / np.sqrt(2), -1j / np.sqrt(2)], 0)        \n",
    "\n",
    "    # Statevectorは測定前に取得する必要がある\n",
    "    state = Statevector.from_instruction(qc).data\n",
    "    plot_bloch_multivector(state)\n",
    "    qc.measure(0, 0)\n",
    "    counts = sim.run(qc).result().get_counts()\n",
    "    print(f\"{state_label}> : \", \"state=\", state.round(3), \"counts=\",counts)"
   ]
  },
  {
   "cell_type": "markdown",
   "metadata": {},
   "source": [
    "## 解説\n",
    "$|0\\rangle$、$|1\\rangle$、$|+\\rangle$、$|-\\rangle$、$|i\\rangle$、$|i-\\rangle$はそれぞれ以下のようなベクトルになるので、これらをqiskitで表現すればよい。\n",
    "$$\n",
    "\\begin{split}|0\\rangle = \\left(\n",
    "\\begin{array}{c}\n",
    "1\n",
    "\\\\\n",
    "0\n",
    "\\end{array}\n",
    "\\right)\\end{split}\n",
    ",\n",
    "\\begin{split}|1\\rangle = \\left(\n",
    "\\begin{array}{c}\n",
    "0\n",
    "\\\\\n",
    "1\n",
    "\\end{array}\n",
    "\\right)\\end{split}\n",
    ",\n",
    "\\begin{split}|+\\rangle = \\left(\n",
    "\\begin{array}{c}\n",
    "\\frac{1}{\\sqrt{2}}\n",
    "\\\\\n",
    "\\frac{1}{\\sqrt{2}}\n",
    "\\end{array}\n",
    "\\right)\\end{split}\n",
    ",\n",
    "\\begin{split}|-\\rangle = \\left(\n",
    "\\begin{array}{c}\n",
    "\\frac{1}{\\sqrt{2}}\n",
    "\\\\\n",
    "- \\frac{1}{\\sqrt{2}}\n",
    "\\end{array}\n",
    "\\right)\\end{split}\n",
    ",\n",
    "\\begin{split}|i+\\rangle = \\left(\n",
    "\\begin{array}{c}\n",
    "\\frac{1}{\\sqrt{2}}\n",
    "\\\\\n",
    "\\frac{i}{\\sqrt{2}}\n",
    "\\end{array}\n",
    "\\right)\\end{split}\n",
    ",\n",
    "\\begin{split}|i-\\rangle = \\left(\n",
    "\\begin{array}{c}\n",
    "\\frac{1}{\\sqrt{2}}\n",
    "\\\\\n",
    "- \\frac{i}{\\sqrt{2}}\n",
    "\\end{array}\n",
    "\\right)\\end{split}\n",
    "$$"
   ]
  },
  {
   "cell_type": "code",
   "execution_count": null,
   "metadata": {},
   "outputs": [],
   "source": []
  }
 ],
 "metadata": {
  "kernelspec": {
   "display_name": "Python 3 (ipykernel)",
   "language": "python",
   "name": "python3"
  },
  "language_info": {
   "codemirror_mode": {
    "name": "ipython",
    "version": 3
   },
   "file_extension": ".py",
   "mimetype": "text/x-python",
   "name": "python",
   "nbconvert_exporter": "python",
   "pygments_lexer": "ipython3",
   "version": "3.9.13"
  },
  "toc": {
   "base_numbering": 1,
   "nav_menu": {},
   "number_sections": false,
   "sideBar": true,
   "skip_h1_title": false,
   "title_cell": "Table of Contents",
   "title_sidebar": "Contents",
   "toc_cell": false,
   "toc_position": {},
   "toc_section_display": true,
   "toc_window_display": true
  }
 },
 "nbformat": 4,
 "nbformat_minor": 4
}
