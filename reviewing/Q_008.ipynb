{
 "cells": [
  {
   "cell_type": "code",
   "execution_count": 4,
   "metadata": {},
   "outputs": [],
   "source": [
    "import numpy as np\n",
    "from qiskit import QuantumCircuit, Aer, transpile\n",
    "from qiskit.visualization import plot_bloch_multivector\n",
    "from qiskit.quantum_info import Statevector\n",
    "from IPython.display import display\n",
    "from qiskit.tools.visualization import plot_histogram\n",
    "\n",
    "sim = Aer.get_backend(\"aer_simulator\")"
   ]
  },
  {
   "cell_type": "markdown",
   "metadata": {},
   "source": [
    "# Q8  |0> に対し、それぞれXゲート、Yゲート、Zゲートを作用させる関数を作成せよ。同様に、|1>, |+>, |->, |i>, |i-> に対して各ゲートを作用させる関数を作成せよ。\n",
    "\n"
   ]
  },
  {
   "cell_type": "markdown",
   "metadata": {},
   "source": [
    "## 解答"
   ]
  },
  {
   "cell_type": "code",
   "execution_count": 5,
   "metadata": {},
   "outputs": [],
   "source": [
    "def apply_gate(state, gate_label):\n",
    "    x_matrix = np.array([[0,1],[1,0]])\n",
    "    y_matrix = np.array([[0,-1j],[1j,0]])\n",
    "    z_matrix = np.array([[1,0],[0,-1]])\n",
    "\n",
    "    if gate_label ==\"X\":\n",
    "        result = np.dot(state, x_matrix)\n",
    "    elif gate_label ==\"Y\":\n",
    "        result = np.dot(state, y_matrix)\n",
    "    elif gate_label ==\"Z\":\n",
    "        result = np.dot(state, z_matrix)\n",
    "    return result"
   ]
  },
  {
   "cell_type": "code",
   "execution_count": 16,
   "metadata": {},
   "outputs": [
    {
     "name": "stdout",
     "output_type": "stream",
     "text": [
      "[0 1]\n",
      "[0.+0.j 0.-1.j]\n",
      "[1 0]\n",
      "[1 0]\n",
      "[0.+1.j 0.+0.j]\n",
      "[ 0 -1]\n",
      "[0.70710678 0.70710678]\n",
      "[0.+0.70710678j 0.-0.70710678j]\n",
      "[ 0.70710678 -0.70710678]\n",
      "[-0.70710678  0.70710678]\n",
      "[1 0]\n",
      "[0.        +0.70710678j 0.70710678+0.j        ]\n",
      "[-0.70710678+0.j          0.        -0.70710678j]\n",
      "[0.70710678+0.j         0.        -0.70710678j]\n",
      "[0.        -0.70710678j 0.70710678+0.j        ]\n",
      "[1 0]\n"
     ]
    }
   ],
   "source": [
    "state = np.array([1, 0])\n",
    "print(apply_gate(state,'X'))\n",
    "print(apply_gate(state,'Y'))\n",
    "print(apply_gate(state,'Z'))\n",
    "\n",
    "state = np.array([0, 1])\n",
    "print(apply_gate(state,'X'))\n",
    "print(apply_gate(state,'Y'))\n",
    "print(apply_gate(state,'Z'))\n",
    "\n",
    "state = np.array([1 / np.sqrt(2), 1 / np.sqrt(2)])\n",
    "print(apply_gate(state,'X'))\n",
    "print(apply_gate(state,'Y'))\n",
    "print(apply_gate(state,'Z'))\n",
    "\n",
    "\n",
    "state = np.array([1 / np.sqrt(2), - 1 / np.sqrt(2)])\n",
    "print(apply_gate(state,'X'))\n",
    "state = np.array([0, 1])\n",
    "print(apply_gate(state,'X'))\n",
    "\n",
    "state = np.array([1 / np.sqrt(2), 1j / np.sqrt(2)])\n",
    "print(apply_gate(state,'X'))\n",
    "print(apply_gate(state,'Y'))\n",
    "print(apply_gate(state,'Z'))\n",
    "\n",
    "\n",
    "state = np.array([1 / np.sqrt(2), - 1j / np.sqrt(2)])\n",
    "print(apply_gate(state,'X'))\n",
    "state = np.array([0, 1])\n",
    "print(apply_gate(state,'X'))"
   ]
  },
  {
   "cell_type": "markdown",
   "metadata": {},
   "source": [
    "## 解説\n",
    "\n",
    "問6の解説にて\n",
    "$|0\\rangle$、$|1\\rangle$、$|+\\rangle$、$|-\\rangle$、$|i\\rangle$、$|i-\\rangle$はそれぞれ以下のようなベクトルになることを説明した。\n",
    "$$\n",
    "\\begin{split}|0\\rangle = \\left(\n",
    "\\begin{array}{c}\n",
    "1\n",
    "\\\\\n",
    "0\n",
    "\\end{array}\n",
    "\\right)\\end{split}\n",
    ",\n",
    "\\begin{split}|1\\rangle = \\left(\n",
    "\\begin{array}{c}\n",
    "0\n",
    "\\\\\n",
    "1\n",
    "\\end{array}\n",
    "\\right)\\end{split}\n",
    ",\n",
    "\\begin{split}|+\\rangle = \\left(\n",
    "\\begin{array}{c}\n",
    "\\frac{1}{\\sqrt{2}}\n",
    "\\\\\n",
    "\\frac{1}{\\sqrt{2}}\n",
    "\\end{array}\n",
    "\\right)\\end{split}\n",
    ",\n",
    "\\begin{split}|-\\rangle = \\left(\n",
    "\\begin{array}{c}\n",
    "\\frac{1}{\\sqrt{2}}\n",
    "\\\\\n",
    "- \\frac{1}{\\sqrt{2}}\n",
    "\\end{array}\n",
    "\\right)\\end{split}\n",
    ",\n",
    "\\begin{split}|i+\\rangle = \\left(\n",
    "\\begin{array}{c}\n",
    "\\frac{1}{\\sqrt{2}}\n",
    "\\\\\n",
    "\\frac{i}{\\sqrt{2}}\n",
    "\\end{array}\n",
    "\\right)\\end{split}\n",
    ",\n",
    "\\begin{split}|i-\\rangle = \\left(\n",
    "\\begin{array}{c}\n",
    "\\frac{1}{\\sqrt{2}}\n",
    "\\\\\n",
    "- \\frac{i}{\\sqrt{2}}\n",
    "\\end{array}\n",
    "\\right)\\end{split}\n",
    "$$\n",
    "また、問7の解説にて\n",
    "X,Y,Zゲートはそれぞれ以下のような行列で表現されることを説明した。\n",
    "\n",
    "$$\n",
    "{X = \\left( \\begin{array}{cc} 0 & 1\\\\ 1 & 0 \\end{array} \\right),\n",
    "Y = \\left( \\begin{array}{cc} 0 & -i\\\\ i & 0 \\end{array} \\right),\n",
    "Z = \\left( \\begin{array}{cc} 1 & 0\\\\ 0 & -1 \\end{array} \\right)\\\\\n",
    "}$$\n",
    "\n",
    "そして、状態のベクトルとゲートの行列の内積を取る関数を定義すればよい。"
   ]
  },
  {
   "cell_type": "code",
   "execution_count": null,
   "metadata": {},
   "outputs": [],
   "source": []
  }
 ],
 "metadata": {
  "kernelspec": {
   "display_name": "Python 3 (ipykernel)",
   "language": "python",
   "name": "python3"
  },
  "language_info": {
   "codemirror_mode": {
    "name": "ipython",
    "version": 3
   },
   "file_extension": ".py",
   "mimetype": "text/x-python",
   "name": "python",
   "nbconvert_exporter": "python",
   "pygments_lexer": "ipython3",
   "version": "3.9.13"
  },
  "toc": {
   "base_numbering": 1,
   "nav_menu": {},
   "number_sections": false,
   "sideBar": true,
   "skip_h1_title": false,
   "title_cell": "Table of Contents",
   "title_sidebar": "Contents",
   "toc_cell": false,
   "toc_position": {},
   "toc_section_display": true,
   "toc_window_display": true
  }
 },
 "nbformat": 4,
 "nbformat_minor": 4
}
