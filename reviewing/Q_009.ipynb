{
 "cells": [
  {
   "cell_type": "code",
   "execution_count": 2,
   "metadata": {},
   "outputs": [],
   "source": [
    "import numpy as np\n",
    "from qiskit import QuantumCircuit, Aer, transpile\n",
    "from qiskit.visualization import plot_bloch_multivector\n",
    "from qiskit.quantum_info import Statevector\n",
    "from IPython.display import display\n",
    "from qiskit.tools.visualization import plot_histogram\n",
    "\n",
    "sim = Aer.get_backend(\"aer_simulator\")"
   ]
  },
  {
   "cell_type": "markdown",
   "metadata": {},
   "source": [
    "# Q9  4種のbell状態|00>+|11>, |00>-|11>, |01>+|10>, |01>-|10>をそれぞれ作成せよ。"
   ]
  },
  {
   "cell_type": "markdown",
   "metadata": {},
   "source": [
    "## 解答"
   ]
  },
  {
   "cell_type": "code",
   "execution_count": 9,
   "metadata": {},
   "outputs": [
    {
     "data": {
      "text/latex": [
       "$$\\frac{\\sqrt{2}}{2} |00\\rangle+\\frac{\\sqrt{2}}{2} |11\\rangle$$"
      ],
      "text/plain": [
       "<IPython.core.display.Latex object>"
      ]
     },
     "execution_count": 9,
     "metadata": {},
     "output_type": "execute_result"
    }
   ],
   "source": [
    "# (|00> + |11>)/sqrt(2)\n",
    "qc = QuantumCircuit(2, 2)\n",
    "qc.h(qubit=0)\n",
    "qc.cx(control_qubit=0, target_qubit=1)\n",
    "Statevector(data=qc).draw(output=\"latex\")"
   ]
  },
  {
   "cell_type": "code",
   "execution_count": 10,
   "metadata": {},
   "outputs": [
    {
     "data": {
      "text/latex": [
       "$$\\frac{\\sqrt{2}}{2} |00\\rangle- \\frac{\\sqrt{2}}{2} |11\\rangle$$"
      ],
      "text/plain": [
       "<IPython.core.display.Latex object>"
      ]
     },
     "execution_count": 10,
     "metadata": {},
     "output_type": "execute_result"
    }
   ],
   "source": [
    "# (|00> - |11>)/sqrt(2)\n",
    "qc = QuantumCircuit(2, 2)\n",
    "qc.x(qubit=0)\n",
    "qc.h(qubit=0)\n",
    "qc.cx(control_qubit=0, target_qubit=1)\n",
    "Statevector(data=qc).draw(output=\"latex\")"
   ]
  },
  {
   "cell_type": "code",
   "execution_count": 11,
   "metadata": {},
   "outputs": [
    {
     "data": {
      "text/latex": [
       "$$\\frac{\\sqrt{2}}{2} |01\\rangle+\\frac{\\sqrt{2}}{2} |10\\rangle$$"
      ],
      "text/plain": [
       "<IPython.core.display.Latex object>"
      ]
     },
     "execution_count": 11,
     "metadata": {},
     "output_type": "execute_result"
    }
   ],
   "source": [
    "# (|01> + |10>)/sqrt(2)\n",
    "qc = QuantumCircuit(2, 2)\n",
    "qc.x(qubit=1)\n",
    "qc.h(qubit=0)\n",
    "qc.cx(control_qubit=0, target_qubit=1)\n",
    "Statevector(data=qc).draw(output=\"latex\")"
   ]
  },
  {
   "cell_type": "code",
   "execution_count": 12,
   "metadata": {},
   "outputs": [
    {
     "data": {
      "text/latex": [
       "$$- \\frac{\\sqrt{2}}{2} |01\\rangle+\\frac{\\sqrt{2}}{2} |10\\rangle$$"
      ],
      "text/plain": [
       "<IPython.core.display.Latex object>"
      ]
     },
     "execution_count": 12,
     "metadata": {},
     "output_type": "execute_result"
    }
   ],
   "source": [
    "# (|01> - |10>)/sqrt(2)\n",
    "qc = QuantumCircuit(2, 2)\n",
    "qc.x(qubit=[0, 1])\n",
    "qc.h(qubit=0)\n",
    "qc.cx(control_qubit=0, target_qubit=1)\n",
    "Statevector(data=qc).draw(output=\"latex\")"
   ]
  },
  {
   "attachments": {},
   "cell_type": "markdown",
   "metadata": {},
   "source": [
    "## 解説\n",
    "Bell状態またはEPR状態は、計算基底を初期状態として持つ2量子ビットの量子回路において、アダマールゲートと制御Xゲートを実行することで得られる。初期状態が$|00\\rangle$のケースを具体的に計算してみる。まずアダマールゲートを0番目の量子ビットに作用させると\n",
    "$$\n",
    "|00\\rangle \\to \\frac{1}{\\sqrt{2}}(|00\\rangle+|01\\rangle)\n",
    "$$\n",
    "が得られる。次に、0番目の量子ビットを制御ビットとする制御Xゲートを1番目の量子ビットに作用させると\n",
    "$$\n",
    "\\frac{1}{\\sqrt{2}}(|00\\rangle+|01\\rangle) \\to \\frac{1}{\\sqrt{2}}(|00\\rangle+|11\\rangle)\n",
    "$$\n",
    "となり、これが4種のBell状態のうちの一種である。残り3種のBell状態は、全く同じ操作を残り3種の初期状態すなわち$|01\\rangle$, $|10\\rangle$, $|11\\rangle$に対して行うことで得ることが出来る。実際に計算して確認してみて欲しい。\n",
    "\n",
    "Qiskitの量子回路クラス`QuantumCircuit`の量子ビットは初期状態が$|0\\rangle$である。これを$|1\\rangle$の状態にするには、Xゲートを作用させればよい。\n",
    "\n",
    "4番目のBell状態の出力結果は、求められている状態と比べてマイナス符号が全体に掛かっていることに読者は気が付いたかもしれない。これはグローバル位相であり、二つの状態は物理的には等価である。気になる場合には、`QuantumCircuit`のインスタンス作成時にグローバル位相を指定することでキャンセルすることもできる："
   ]
  },
  {
   "cell_type": "code",
   "execution_count": 13,
   "metadata": {},
   "outputs": [
    {
     "data": {
      "text/latex": [
       "$$\\frac{\\sqrt{2}}{2} |01\\rangle- \\frac{\\sqrt{2}}{2} |10\\rangle$$"
      ],
      "text/plain": [
       "<IPython.core.display.Latex object>"
      ]
     },
     "execution_count": 13,
     "metadata": {},
     "output_type": "execute_result"
    }
   ],
   "source": [
    "# (|01> - |10>)/sqrt(2)\n",
    "qc = QuantumCircuit(2, 2, global_phase=np.pi)\n",
    "qc.x(qubit=[0, 1])\n",
    "qc.h(qubit=0)\n",
    "qc.cx(control_qubit=0, target_qubit=1)\n",
    "Statevector(data=qc).draw(output=\"latex\")"
   ]
  },
  {
   "attachments": {},
   "cell_type": "markdown",
   "metadata": {},
   "source": [
    "## 参考資料\n",
    "- Qiskitテキストブック https://qiskit.org/textbook/ja/ch-gates/multiple-qubits-entangled-states.html#3.-%E8%A4%87%E6%95%B0%E9%87%8F%E5%AD%90%E3%83%93%E3%83%83%E3%83%88%E3%82%B2%E3%83%BC%E3%83%88-\n",
    "- Pages 25-26 in Nielsen, M., & Chuang, I. (2010). Quantum Computation and Quantum Information: 10th Anniversary Edition. Cambridge: Cambridge University Press. doi:10.1017/CBO9780511976667"
   ]
  }
 ],
 "metadata": {
  "kernelspec": {
   "display_name": "toys",
   "language": "python",
   "name": "toys"
  },
  "language_info": {
   "codemirror_mode": {
    "name": "ipython",
    "version": 3
   },
   "file_extension": ".py",
   "mimetype": "text/x-python",
   "name": "python",
   "nbconvert_exporter": "python",
   "pygments_lexer": "ipython3",
   "version": "3.8.13"
  },
  "toc": {
   "base_numbering": 1,
   "nav_menu": {},
   "number_sections": false,
   "sideBar": true,
   "skip_h1_title": false,
   "title_cell": "Table of Contents",
   "title_sidebar": "Contents",
   "toc_cell": false,
   "toc_position": {},
   "toc_section_display": true,
   "toc_window_display": true
  }
 },
 "nbformat": 4,
 "nbformat_minor": 2
}
