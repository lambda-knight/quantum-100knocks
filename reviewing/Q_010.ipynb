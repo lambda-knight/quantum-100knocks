{
 "cells": [
  {
   "cell_type": "code",
   "execution_count": 13,
   "metadata": {},
   "outputs": [],
   "source": [
    "import numpy as np\n",
    "from qiskit import QuantumCircuit, Aer, transpile\n",
    "from qiskit.visualization import plot_bloch_multivector\n",
    "from qiskit.quantum_info import Statevector\n",
    "from IPython.display import display\n",
    "from qiskit.tools.visualization import plot_histogram\n",
    "\n",
    "sim = Aer.get_backend(\"aer_simulator\")"
   ]
  },
  {
   "cell_type": "markdown",
   "metadata": {},
   "source": [
    "# Q10  前問の結果を測定した場合、0と1を測定する確率はそれぞれ理論的にはいくつになるか。また実際に測定して理論値と比較してみよ。"
   ]
  },
  {
   "cell_type": "markdown",
   "metadata": {},
   "source": [
    "## 解答"
   ]
  },
  {
   "cell_type": "code",
   "execution_count": 30,
   "metadata": {},
   "outputs": [
    {
     "name": "stdout",
     "output_type": "stream",
     "text": [
      "(|00>+|11>)/sqrt(2)\n",
      "Bitstring 00: Expected observation prob. = 0.5\n",
      "Bitstring 11: Expected observation prob. = 0.5\n",
      "Bitstring 11: Actual observation prob. = 0.5\n",
      "Bitstring 00: Actual observation prob. = 0.5\n",
      "(|00>-|11>)/sqrt(2)\n",
      "Bitstring 00: Expected observation prob. = 0.5\n",
      "Bitstring 11: Expected observation prob. = 0.5\n",
      "Bitstring 00: Actual observation prob. = 0.5\n",
      "Bitstring 11: Actual observation prob. = 0.5\n",
      "(|01>+|10>)/sqrt(2)\n",
      "Bitstring 01: Expected observation prob. = 0.5\n",
      "Bitstring 10: Expected observation prob. = 0.5\n",
      "Bitstring 01: Actual observation prob. = 0.5\n",
      "Bitstring 10: Actual observation prob. = 0.5\n",
      "(|01>-|10>)/sqrt(2)\n",
      "Bitstring 01: Expected observation prob. = 0.5\n",
      "Bitstring 10: Expected observation prob. = 0.5\n",
      "Bitstring 01: Actual observation prob. = 0.5\n",
      "Bitstring 10: Actual observation prob. = 0.5\n"
     ]
    }
   ],
   "source": [
    "# Bell状態をkey, Xゲートを作用させる量子ビットのidのリストをvalueとする辞書を作成\n",
    "bell_state_to_init_state = {\n",
    "    \"(|00>+|11>)/sqrt(2)\": [],\n",
    "    \"(|00>-|11>)/sqrt(2)\": [0],\n",
    "    \"(|01>+|10>)/sqrt(2)\": [1],\n",
    "    \"(|01>-|10>)/sqrt(2)\": [0, 1]\n",
    "}\n",
    "\n",
    "for bell_state, init_state in bell_state_to_init_state.items():\n",
    "    print(bell_state)\n",
    "    qc = QuantumCircuit(2, 2)\n",
    "    for i in init_state:\n",
    "        qc.x(qubit=i)\n",
    "    qc.h(qubit=0)\n",
    "    qc.cx(control_qubit=0, target_qubit=1)\n",
    "    state_vec = Statevector(data=qc).to_dict()\n",
    "\n",
    "    for bitstring, wave_func in state_vec.items():\n",
    "        # 係数の絶対値の二乗を計算\n",
    "        prob = wave_func.real**2 + wave_func.imag**2\n",
    "        # 理論的な確率をプリント\n",
    "        print(f\"Bitstring {bitstring}: \"\n",
    "              f\"Expected observation prob. = {np.round(prob, decimals=8)}\")\n",
    "\n",
    "    qc.measure(qubit=[0, 1], cbit=[0, 1])\n",
    "    shots = 100000\n",
    "    counts = sim.run(circuits=qc, shots=shots).result().get_counts()\n",
    "    for bitstring, count in counts.items():\n",
    "        # 実測の確率をプリント\n",
    "        print(f\"Bitstring {bitstring}: \"\n",
    "              f\"Actual observation prob. = {np.round(count/shots, decimals=2)}\")"
   ]
  },
  {
   "attachments": {},
   "cell_type": "markdown",
   "metadata": {},
   "source": [
    "## 解説\n",
    "基底状態すなわち$|0\\rangle$および$|1\\rangle$に掛かる係数の絶対値の二乗が、その基底状態の測定確率を表す。Bell状態の1つである$(|00\\rangle+|11\\rangle)/\\sqrt{2}$を具体的に見てみると、$|00\\rangle$と$|11\\rangle$に掛かる係数は共通の$1/\\sqrt{2}$である。故に、$|00\\rangle$と$|11\\rangle$が出力される確率は共通の$|1/\\sqrt{2}|^2 = 0.5$であると理論的に予測できる。\n",
    "\n",
    "これを実際に測定して確認するには、測定を複数回行い、$|00\\rangle$が出力される回数および$|11\\rangle$が出力される回数をカウントして、それらを測定の回数で割ればよい。測定の回数(=shots)が十分に大きければ、それぞれが0.5に収束することを確認できる。"
   ]
  }
 ],
 "metadata": {
  "kernelspec": {
   "display_name": "toys",
   "language": "python",
   "name": "toys"
  },
  "language_info": {
   "codemirror_mode": {
    "name": "ipython",
    "version": 3
   },
   "file_extension": ".py",
   "mimetype": "text/x-python",
   "name": "python",
   "nbconvert_exporter": "python",
   "pygments_lexer": "ipython3",
   "version": "3.8.13"
  },
  "toc": {
   "base_numbering": 1,
   "nav_menu": {},
   "number_sections": false,
   "sideBar": true,
   "skip_h1_title": false,
   "title_cell": "Table of Contents",
   "title_sidebar": "Contents",
   "toc_cell": false,
   "toc_position": {},
   "toc_section_display": true,
   "toc_window_display": true
  }
 },
 "nbformat": 4,
 "nbformat_minor": 2
}
