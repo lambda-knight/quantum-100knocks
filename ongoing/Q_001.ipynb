{
 "cells": [
  {
   "cell_type": "code",
   "execution_count": 4,
   "metadata": {},
   "outputs": [],
   "source": [
    "import numpy as np\n",
    "from qiskit import QuantumCircuit, Aer, transpile\n",
    "from qiskit.visualization import plot_bloch_multivector\n",
    "from qiskit.quantum_info import Statevector\n",
    "from IPython.display import display\n",
    "from qiskit.tools.visualization import plot_histogram\n",
    "\n",
    "sim = Aer.get_backend(\"aer_simulator\")"
   ]
  },
  {
   "cell_type": "markdown",
   "metadata": {},
   "source": [
    "# Q1  13の2進数表示(5桁)を文字列で表示せよ(右端を最小桁とする)、また左から3桁目のビットを反転した際は10進数でいくつになるか？ 任意の数について同様の計算を行う関数を作成せよ。"
   ]
  },
  {
   "cell_type": "markdown",
   "metadata": {},
   "source": [
    "## 解答"
   ]
  },
  {
   "cell_type": "code",
   "execution_count": 5,
   "metadata": {},
   "outputs": [
    {
     "name": "stdout",
     "output_type": "stream",
     "text": [
      "01101\n",
      "01001\n"
     ]
    }
   ],
   "source": [
    "# 13の2進数表記\n",
    "binary_13 = f\"{13:05b}\"\n",
    "print(binary_13)\n",
    "\n",
    "new_binary = binary_13[:2] + (\"0\" if binary_13[2] == \"1\" else \"1\") + binary_13[3:]\n",
    "print(new_binary)\n",
    "\n",
    "\n",
    "def flip_3rd_digid(integer):\n",
    "    binary = f\"{integer:05b}\"\n",
    "    new_binary = binary[:2] + (\"0\" if binary[2] == \"1\" else \"1\") + binary[3:]\n",
    "    return new_binary"
   ]
  }
 ],
 "metadata": {
  "kernelspec": {
   "display_name": "Python 3",
   "language": "python",
   "name": "python3"
  },
  "language_info": {
   "codemirror_mode": {
    "name": "ipython",
    "version": 3
   },
   "file_extension": ".py",
   "mimetype": "text/x-python",
   "name": "python",
   "nbconvert_exporter": "python",
   "pygments_lexer": "ipython3",
   "version": "3.7.6"
  },
  "toc": {
   "base_numbering": 1,
   "nav_menu": {},
   "number_sections": false,
   "sideBar": true,
   "skip_h1_title": false,
   "title_cell": "Table of Contents",
   "title_sidebar": "Contents",
   "toc_cell": false,
   "toc_position": {},
   "toc_section_display": true,
   "toc_window_display": true
  }
 },
 "nbformat": 4,
 "nbformat_minor": 2
}
