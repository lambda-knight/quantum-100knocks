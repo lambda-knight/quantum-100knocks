{
 "cells": [
  {
   "cell_type": "code",
   "execution_count": 22,
   "metadata": {},
   "outputs": [],
   "source": [
    "import numpy as np\n",
    "from qiskit import QuantumCircuit, Aer, transpile, QuantumRegister\n",
    "from qiskit.visualization import plot_bloch_multivector\n",
    "from qiskit.quantum_info import Statevector\n",
    "from IPython.display import display\n",
    "from qiskit.tools.visualization import plot_histogram\n",
    "\n",
    "sim = Aer.get_backend(\"aer_simulator\")"
   ]
  },
  {
   "attachments": {},
   "cell_type": "markdown",
   "metadata": {},
   "source": [
    "\n",
    "# Q16 10個のqubitに対して、以下の4パターンでアダマールゲートを作用させよ(1つ目のqubitを0番目とする)。 \n",
    "## (1)1番目と5番目の2qubits\n",
    "## (2)3番目までの4qubits\n",
    "## (3)4番目から7番目までの4qubits\n",
    "## (4)8番目以降の2qubits"
   ]
  },
  {
   "cell_type": "markdown",
   "metadata": {},
   "source": []
  },
  {
   "cell_type": "code",
   "execution_count": 13,
   "metadata": {},
   "outputs": [
    {
     "data": {
      "text/html": [
       "<pre style=\"word-wrap: normal;white-space: pre;background: #fff0;line-height: 1.1;font-family: &quot;Courier New&quot;,Courier,monospace\">          \n",
       "q_0: ─────\n",
       "     ┌───┐\n",
       "q_1: ┤ H ├\n",
       "     └───┘\n",
       "q_2: ─────\n",
       "          \n",
       "q_3: ─────\n",
       "          \n",
       "q_4: ─────\n",
       "     ┌───┐\n",
       "q_5: ┤ H ├\n",
       "     └───┘\n",
       "q_6: ─────\n",
       "          \n",
       "q_7: ─────\n",
       "          \n",
       "q_8: ─────\n",
       "          \n",
       "q_9: ─────\n",
       "          </pre>"
      ],
      "text/plain": [
       "          \n",
       "q_0: ─────\n",
       "     ┌───┐\n",
       "q_1: ┤ H ├\n",
       "     └───┘\n",
       "q_2: ─────\n",
       "          \n",
       "q_3: ─────\n",
       "          \n",
       "q_4: ─────\n",
       "     ┌───┐\n",
       "q_5: ┤ H ├\n",
       "     └───┘\n",
       "q_6: ─────\n",
       "          \n",
       "q_7: ─────\n",
       "          \n",
       "q_8: ─────\n",
       "          \n",
       "q_9: ─────\n",
       "          "
      ]
     },
     "execution_count": 13,
     "metadata": {},
     "output_type": "execute_result"
    }
   ],
   "source": [
    "qc = QuantumCircuit(10)\n",
    "qc.h([1,5])\n",
    "qc.draw()"
   ]
  },
  {
   "cell_type": "code",
   "execution_count": 28,
   "metadata": {},
   "outputs": [
    {
     "data": {
      "text/html": [
       "<pre style=\"word-wrap: normal;white-space: pre;background: #fff0;line-height: 1.1;font-family: &quot;Courier New&quot;,Courier,monospace\">      ┌───┐\n",
       "q5_0: ┤ H ├\n",
       "      ├───┤\n",
       "q5_1: ┤ H ├\n",
       "      ├───┤\n",
       "q5_2: ┤ H ├\n",
       "      ├───┤\n",
       "q5_3: ┤ H ├\n",
       "      └───┘\n",
       "q5_4: ─────\n",
       "           \n",
       "q5_5: ─────\n",
       "           \n",
       "q5_6: ─────\n",
       "           \n",
       "q5_7: ─────\n",
       "           \n",
       "q5_8: ─────\n",
       "           \n",
       "q5_9: ─────\n",
       "           </pre>"
      ],
      "text/plain": [
       "      ┌───┐\n",
       "q5_0: ┤ H ├\n",
       "      ├───┤\n",
       "q5_1: ┤ H ├\n",
       "      ├───┤\n",
       "q5_2: ┤ H ├\n",
       "      ├───┤\n",
       "q5_3: ┤ H ├\n",
       "      └───┘\n",
       "q5_4: ─────\n",
       "           \n",
       "q5_5: ─────\n",
       "           \n",
       "q5_6: ─────\n",
       "           \n",
       "q5_7: ─────\n",
       "           \n",
       "q5_8: ─────\n",
       "           \n",
       "q5_9: ─────\n",
       "           "
      ]
     },
     "execution_count": 28,
     "metadata": {},
     "output_type": "execute_result"
    }
   ],
   "source": [
    "inp_reg = QuantumRegister(10)\n",
    "qc = QuantumCircuit(inp_reg)\n",
    "qc.h(inp_reg[:4])\n",
    "qc.draw()"
   ]
  },
  {
   "cell_type": "code",
   "execution_count": 29,
   "metadata": {},
   "outputs": [
    {
     "data": {
      "text/html": [
       "<pre style=\"word-wrap: normal;white-space: pre;background: #fff0;line-height: 1.1;font-family: &quot;Courier New&quot;,Courier,monospace\">           \n",
       "q6_0: ─────\n",
       "           \n",
       "q6_1: ─────\n",
       "           \n",
       "q6_2: ─────\n",
       "           \n",
       "q6_3: ─────\n",
       "      ┌───┐\n",
       "q6_4: ┤ H ├\n",
       "      ├───┤\n",
       "q6_5: ┤ H ├\n",
       "      ├───┤\n",
       "q6_6: ┤ H ├\n",
       "      ├───┤\n",
       "q6_7: ┤ H ├\n",
       "      └───┘\n",
       "q6_8: ─────\n",
       "           \n",
       "q6_9: ─────\n",
       "           </pre>"
      ],
      "text/plain": [
       "           \n",
       "q6_0: ─────\n",
       "           \n",
       "q6_1: ─────\n",
       "           \n",
       "q6_2: ─────\n",
       "           \n",
       "q6_3: ─────\n",
       "      ┌───┐\n",
       "q6_4: ┤ H ├\n",
       "      ├───┤\n",
       "q6_5: ┤ H ├\n",
       "      ├───┤\n",
       "q6_6: ┤ H ├\n",
       "      ├───┤\n",
       "q6_7: ┤ H ├\n",
       "      └───┘\n",
       "q6_8: ─────\n",
       "           \n",
       "q6_9: ─────\n",
       "           "
      ]
     },
     "execution_count": 29,
     "metadata": {},
     "output_type": "execute_result"
    }
   ],
   "source": [
    "inp_reg = QuantumRegister(10)\n",
    "qc = QuantumCircuit(inp_reg)\n",
    "qc.h(inp_reg[4:8])\n",
    "qc.draw()"
   ]
  },
  {
   "cell_type": "code",
   "execution_count": 30,
   "metadata": {},
   "outputs": [
    {
     "data": {
      "text/html": [
       "<pre style=\"word-wrap: normal;white-space: pre;background: #fff0;line-height: 1.1;font-family: &quot;Courier New&quot;,Courier,monospace\">           \n",
       "q7_0: ─────\n",
       "           \n",
       "q7_1: ─────\n",
       "           \n",
       "q7_2: ─────\n",
       "           \n",
       "q7_3: ─────\n",
       "           \n",
       "q7_4: ─────\n",
       "           \n",
       "q7_5: ─────\n",
       "           \n",
       "q7_6: ─────\n",
       "           \n",
       "q7_7: ─────\n",
       "      ┌───┐\n",
       "q7_8: ┤ H ├\n",
       "      ├───┤\n",
       "q7_9: ┤ H ├\n",
       "      └───┘</pre>"
      ],
      "text/plain": [
       "           \n",
       "q7_0: ─────\n",
       "           \n",
       "q7_1: ─────\n",
       "           \n",
       "q7_2: ─────\n",
       "           \n",
       "q7_3: ─────\n",
       "           \n",
       "q7_4: ─────\n",
       "           \n",
       "q7_5: ─────\n",
       "           \n",
       "q7_6: ─────\n",
       "           \n",
       "q7_7: ─────\n",
       "      ┌───┐\n",
       "q7_8: ┤ H ├\n",
       "      ├───┤\n",
       "q7_9: ┤ H ├\n",
       "      └───┘"
      ]
     },
     "execution_count": 30,
     "metadata": {},
     "output_type": "execute_result"
    }
   ],
   "source": [
    "inp_reg = QuantumRegister(10)\n",
    "qc = QuantumCircuit(inp_reg)\n",
    "qc.h(inp_reg[8:])\n",
    "qc.draw()"
   ]
  },
  {
   "cell_type": "code",
   "execution_count": null,
   "metadata": {},
   "outputs": [],
   "source": []
  }
 ],
 "metadata": {
  "kernelspec": {
   "display_name": "Python 3",
   "language": "python",
   "name": "python3"
  },
  "language_info": {
   "codemirror_mode": {
    "name": "ipython",
    "version": 3
   },
   "file_extension": ".py",
   "mimetype": "text/x-python",
   "name": "python",
   "nbconvert_exporter": "python",
   "pygments_lexer": "ipython3",
   "version": "3.9.6"
  },
  "toc": {
   "base_numbering": 1,
   "nav_menu": {},
   "number_sections": false,
   "sideBar": true,
   "skip_h1_title": false,
   "title_cell": "Table of Contents",
   "title_sidebar": "Contents",
   "toc_cell": false,
   "toc_position": {},
   "toc_section_display": true,
   "toc_window_display": true
  }
 },
 "nbformat": 4,
 "nbformat_minor": 2
}
