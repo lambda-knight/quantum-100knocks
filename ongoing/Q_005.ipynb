{
 "cells": [
  {
   "cell_type": "code",
   "execution_count": 4,
   "metadata": {},
   "outputs": [],
   "source": [
    "import numpy as np\n",
    "from qiskit import QuantumCircuit, Aer, transpile\n",
    "from qiskit.visualization import plot_bloch_multivector\n",
    "from qiskit.quantum_info import Statevector\n",
    "from IPython.display import display\n",
    "from qiskit.tools.visualization import plot_histogram\n",
    "\n",
    "sim = Aer.get_backend(\"aer_simulator\")"
   ]
  },
  {
   "cell_type": "markdown",
   "metadata": {},
   "source": [
    "# Q5 以下の表を埋め、それぞれ回路を作成し測定により結果を確かめよ。<br>       (例: 1行1列目ではX|0>の演算結果を求める)"
   ]
  },
  {
   "cell_type": "markdown",
   "metadata": {},
   "source": [
    "問題の位置を要検討 (ゲート作成演習の総仕上げ的位置が良さそう)"
   ]
  },
  {
   "cell_type": "markdown",
   "metadata": {},
   "source": [
    "<img src=\"https://user-images.githubusercontent.com/19603134/225401162-7f343dd9-0054-4e6a-a483-514a96806b8d.png\">"
   ]
  },
  {
   "cell_type": "markdown",
   "metadata": {},
   "source": [
    "## 解答"
   ]
  },
  {
   "cell_type": "markdown",
   "metadata": {},
   "source": [
    "<img src=\"https://user-images.githubusercontent.com/19603134/225403944-6ec818f1-3336-423d-bb0c-bc780bffe38b.png\">"
   ]
  },
  {
   "cell_type": "code",
   "execution_count": 12,
   "metadata": {},
   "outputs": [
    {
     "name": "stdout",
     "output_type": "stream",
     "text": [
      "X |0> :  state= [0.+0.j 1.+0.j] counts= {'1': 1024}\n",
      "Z |0> :  state= [1.+0.j 0.+0.j] counts= {'0': 1024}\n",
      "H |0> :  state= [0.707+0.j 0.707+0.j] counts= {'1': 520, '0': 504}\n",
      "ZH |0> :  state= [ 0.707+0.j -0.707+0.j] counts= {'1': 506, '0': 518}\n",
      "\n",
      "X |1> :  state= [1.+0.j 0.+0.j] counts= {'0': 1024}\n",
      "Z |1> :  state= [ 0.+0.j -1.+0.j] counts= {'1': 1024}\n",
      "H |1> :  state= [ 0.707+0.j -0.707+0.j] counts= {'1': 501, '0': 523}\n",
      "ZH |1> :  state= [0.707+0.j 0.707+0.j] counts= {'0': 489, '1': 535}\n",
      "\n",
      "X |+> :  state= [0.707+0.j 0.707+0.j] counts= {'0': 472, '1': 552}\n",
      "Z |+> :  state= [ 0.707+0.j -0.707+0.j] counts= {'0': 517, '1': 507}\n",
      "H |+> :  state= [1.+0.j 0.+0.j] counts= {'0': 1024}\n",
      "ZH |+> :  state= [ 1.+0.j -0.+0.j] counts= {'0': 1024}\n",
      "\n",
      "X |-> :  state= [-0.707+0.j  0.707+0.j] counts= {'1': 508, '0': 516}\n",
      "Z |-> :  state= [0.707+0.j 0.707-0.j] counts= {'0': 529, '1': 495}\n",
      "H |-> :  state= [0.+0.j 1.-0.j] counts= {'1': 1024}\n",
      "ZH |-> :  state= [ 0.+0.j -1.+0.j] counts= {'1': 1024}\n",
      "\n"
     ]
    }
   ],
   "source": [
    "\n",
    "for state_label in [\"0\", \"1\", \"+\", \"-\"]:\n",
    "    for gate_label in [\"X\", \"Z\", \"H\", \"ZH\"]:\n",
    "        qc = QuantumCircuit(1, 1)\n",
    "\n",
    "        # 初期状態の設定\n",
    "        if state_label == \"1\":\n",
    "            qc.initialize([0, 1], 0)\n",
    "        elif state_label == \"+\":\n",
    "            qc.initialize([1 / np.sqrt(2), 1 / np.sqrt(2)], 0)\n",
    "        elif state_label == \"-\":\n",
    "            qc.initialize([1 / np.sqrt(2), -1 / np.sqrt(2)], 0)\n",
    "\n",
    "        # ゲートの配置\n",
    "        if gate_label ==\"X\":\n",
    "            qc.x(0)\n",
    "        elif gate_label ==\"Z\":\n",
    "            qc.z(0)\n",
    "        elif gate_label ==\"H\":\n",
    "            qc.h(0)\n",
    "        elif gate_label ==\"ZH\":\n",
    "            qc.h(0)        \n",
    "            qc.z(0)      \n",
    "        # Statevectorは測定前に取得する必要がある\n",
    "        state = Statevector.from_instruction(qc).data\n",
    "        qc.measure(0, 0)\n",
    "        counts = sim.run(qc).result().get_counts()\n",
    "        print(f\"{gate_label} |{state_label}> : \", \"state=\", state.round(3), \"counts=\",counts)\n",
    "    print()"
   ]
  }
 ],
 "metadata": {
  "kernelspec": {
   "display_name": "Python 3",
   "language": "python",
   "name": "python3"
  },
  "language_info": {
   "codemirror_mode": {
    "name": "ipython",
    "version": 3
   },
   "file_extension": ".py",
   "mimetype": "text/x-python",
   "name": "python",
   "nbconvert_exporter": "python",
   "pygments_lexer": "ipython3",
   "version": "3.7.6"
  },
  "toc": {
   "base_numbering": 1,
   "nav_menu": {},
   "number_sections": false,
   "sideBar": true,
   "skip_h1_title": false,
   "title_cell": "Table of Contents",
   "title_sidebar": "Contents",
   "toc_cell": false,
   "toc_position": {},
   "toc_section_display": true,
   "toc_window_display": true
  }
 },
 "nbformat": 4,
 "nbformat_minor": 2
}
